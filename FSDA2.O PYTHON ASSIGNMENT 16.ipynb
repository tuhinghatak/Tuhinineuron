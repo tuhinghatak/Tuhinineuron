{
 "cells": [
  {
   "cell_type": "code",
   "execution_count": 1,
   "id": "32561b55",
   "metadata": {},
   "outputs": [
    {
     "data": {
      "text/plain": [
       "[2001, 2002, 2003, 2004, 2005, 2006]"
      ]
     },
     "execution_count": 1,
     "metadata": {},
     "output_type": "execute_result"
    }
   ],
   "source": [
    "#ANS 1:\n",
    "years_list = [i for i in range(2001,2001+6)]\n",
    "years_list"
   ]
  },
  {
   "cell_type": "code",
   "execution_count": 4,
   "id": "c55f4682",
   "metadata": {},
   "outputs": [
    {
     "data": {
      "text/plain": [
       "2004"
      ]
     },
     "execution_count": 4,
     "metadata": {},
     "output_type": "execute_result"
    }
   ],
   "source": [
    "#ANS 2:\n",
    "years_list[3]"
   ]
  },
  {
   "cell_type": "code",
   "execution_count": 5,
   "id": "6106d475",
   "metadata": {},
   "outputs": [
    {
     "data": {
      "text/plain": [
       "2006"
      ]
     },
     "execution_count": 5,
     "metadata": {},
     "output_type": "execute_result"
    }
   ],
   "source": [
    "#ANS 3:\n",
    "years_list[5]"
   ]
  },
  {
   "cell_type": "code",
   "execution_count": 7,
   "id": "31bbd270",
   "metadata": {},
   "outputs": [
    {
     "data": {
      "text/plain": [
       "['mozzarella', 'cindrella', 'salmonella']"
      ]
     },
     "execution_count": 7,
     "metadata": {},
     "output_type": "execute_result"
    }
   ],
   "source": [
    "#ANS 4:\n",
    "things = [\"mozzarella\",\"cindrella\",\"salmonella\"]\n",
    "things"
   ]
  },
  {
   "cell_type": "code",
   "execution_count": 8,
   "id": "dbe37f77",
   "metadata": {},
   "outputs": [
    {
     "name": "stdout",
     "output_type": "stream",
     "text": [
      "Mozzarella\n",
      "Cindrella\n",
      "Salmonella\n"
     ]
    },
    {
     "data": {
      "text/plain": [
       "['mozzarella', 'cindrella', 'salmonella']"
      ]
     },
     "execution_count": 8,
     "metadata": {},
     "output_type": "execute_result"
    }
   ],
   "source": [
    "#ANS 5:\n",
    "for i in things:\n",
    "    print(i.capitalize())\n",
    "things    "
   ]
  },
  {
   "cell_type": "code",
   "execution_count": 10,
   "id": "ed695677",
   "metadata": {},
   "outputs": [
    {
     "data": {
      "text/plain": [
       "['Groucho', 'Chico', 'Harpo']"
      ]
     },
     "execution_count": 10,
     "metadata": {},
     "output_type": "execute_result"
    }
   ],
   "source": [
    "#ANS 6:\n",
    "surprise_list = [\"Groucho\", \"Chico\", \"Harpo\"]\n",
    "surprise_list"
   ]
  },
  {
   "cell_type": "code",
   "execution_count": 13,
   "id": "ccf55cc1",
   "metadata": {},
   "outputs": [
    {
     "data": {
      "text/plain": [
       "'harpo'"
      ]
     },
     "execution_count": 13,
     "metadata": {},
     "output_type": "execute_result"
    }
   ],
   "source": [
    "surprise_list[-1].lower()"
   ]
  },
  {
   "cell_type": "code",
   "execution_count": 20,
   "id": "a8325dd2",
   "metadata": {},
   "outputs": [
    {
     "data": {
      "text/plain": [
       "'opraH'"
      ]
     },
     "execution_count": 20,
     "metadata": {},
     "output_type": "execute_result"
    }
   ],
   "source": [
    "surprise_list[-1][::-1]"
   ]
  },
  {
   "cell_type": "code",
   "execution_count": 16,
   "id": "5f88e846",
   "metadata": {},
   "outputs": [
    {
     "data": {
      "text/plain": [
       "'OPRAH'"
      ]
     },
     "execution_count": 16,
     "metadata": {},
     "output_type": "execute_result"
    }
   ],
   "source": [
    "surprise_list[-1][::-1].upper()"
   ]
  },
  {
   "cell_type": "code",
   "execution_count": 30,
   "id": "1c6bdf35",
   "metadata": {},
   "outputs": [],
   "source": [
    "#ANS 7: \n",
    "e2f = {\"dog\":\"chien\" ,\"cat\":\"chat\" , \"walrus\":\"morse\"}"
   ]
  },
  {
   "cell_type": "code",
   "execution_count": 31,
   "id": "8ad575a8",
   "metadata": {},
   "outputs": [
    {
     "data": {
      "text/plain": [
       "'morse'"
      ]
     },
     "execution_count": 31,
     "metadata": {},
     "output_type": "execute_result"
    }
   ],
   "source": [
    "e2f[\"walrus\"]"
   ]
  },
  {
   "cell_type": "code",
   "execution_count": 33,
   "id": "8e933297",
   "metadata": {},
   "outputs": [
    {
     "data": {
      "text/plain": [
       "{'chien': 'dog', 'chat': 'cat', 'morse': 'walrus'}"
      ]
     },
     "execution_count": 33,
     "metadata": {},
     "output_type": "execute_result"
    }
   ],
   "source": [
    "#ANS 10:\n",
    "f2e = dict((key,value) for value,key in e2f.items())\n",
    "f2e"
   ]
  },
  {
   "cell_type": "code",
   "execution_count": 34,
   "id": "da2c6eaf",
   "metadata": {},
   "outputs": [
    {
     "data": {
      "text/plain": [
       "'dog'"
      ]
     },
     "execution_count": 34,
     "metadata": {},
     "output_type": "execute_result"
    }
   ],
   "source": [
    "#ANS 11:\n",
    "f2e[\"chien\"]"
   ]
  },
  {
   "cell_type": "code",
   "execution_count": 37,
   "id": "1105a846",
   "metadata": {},
   "outputs": [
    {
     "data": {
      "text/plain": [
       "dict_keys(['dog', 'cat', 'walrus'])"
      ]
     },
     "execution_count": 37,
     "metadata": {},
     "output_type": "execute_result"
    }
   ],
   "source": [
    "#ANS 12:\n",
    "e2f.keys()"
   ]
  },
  {
   "cell_type": "code",
   "execution_count": 38,
   "id": "b4648f97",
   "metadata": {},
   "outputs": [
    {
     "data": {
      "text/plain": [
       "{'animals': {'cat': ['Henri', 'Grumpy', 'Lucy'], 'octopi': '', 'emus': ''},\n",
       " 'plants': '',\n",
       " 'other': ''}"
      ]
     },
     "execution_count": 38,
     "metadata": {},
     "output_type": "execute_result"
    }
   ],
   "source": [
    "#ANS 13:\n",
    "life = {'animals':{'cat':['Henri', 'Grumpy', 'Lucy'], 'octopi':'', 'emus':''},\n",
    "       'plants' :'',\n",
    "       'other' :'' }\n",
    "life"
   ]
  },
  {
   "cell_type": "code",
   "execution_count": 42,
   "id": "74d0b843",
   "metadata": {},
   "outputs": [
    {
     "data": {
      "text/plain": [
       "dict_keys(['animals', 'plants', 'other'])"
      ]
     },
     "execution_count": 42,
     "metadata": {},
     "output_type": "execute_result"
    }
   ],
   "source": [
    "#ANS 14:\n",
    "life.keys()"
   ]
  },
  {
   "cell_type": "code",
   "execution_count": 44,
   "id": "b6b371f3",
   "metadata": {},
   "outputs": [
    {
     "data": {
      "text/plain": [
       "dict_keys(['cat', 'octopi', 'emus'])"
      ]
     },
     "execution_count": 44,
     "metadata": {},
     "output_type": "execute_result"
    }
   ],
   "source": [
    "#ANS 15:\n",
    "life['animals'].keys()"
   ]
  },
  {
   "cell_type": "code",
   "execution_count": 47,
   "id": "71a59a85",
   "metadata": {},
   "outputs": [
    {
     "data": {
      "text/plain": [
       "['Henri', 'Grumpy', 'Lucy']"
      ]
     },
     "execution_count": 47,
     "metadata": {},
     "output_type": "execute_result"
    }
   ],
   "source": [
    "#ANS 16:\n",
    "life['animals']['cat']"
   ]
  },
  {
   "cell_type": "code",
   "execution_count": null,
   "id": "b2c8cb30",
   "metadata": {},
   "outputs": [],
   "source": []
  },
  {
   "cell_type": "code",
   "execution_count": null,
   "id": "0e91a95e",
   "metadata": {},
   "outputs": [],
   "source": []
  },
  {
   "cell_type": "code",
   "execution_count": null,
   "id": "0984ba6b",
   "metadata": {},
   "outputs": [],
   "source": []
  },
  {
   "cell_type": "code",
   "execution_count": null,
   "id": "537aa07a",
   "metadata": {},
   "outputs": [],
   "source": []
  }
 ],
 "metadata": {
  "kernelspec": {
   "display_name": "Python 3 (ipykernel)",
   "language": "python",
   "name": "python3"
  },
  "language_info": {
   "codemirror_mode": {
    "name": "ipython",
    "version": 3
   },
   "file_extension": ".py",
   "mimetype": "text/x-python",
   "name": "python",
   "nbconvert_exporter": "python",
   "pygments_lexer": "ipython3",
   "version": "3.9.13"
  }
 },
 "nbformat": 4,
 "nbformat_minor": 5
}
