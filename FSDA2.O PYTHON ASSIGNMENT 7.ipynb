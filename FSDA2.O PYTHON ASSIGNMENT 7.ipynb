{
 "cells": [
  {
   "cell_type": "code",
   "execution_count": null,
   "id": "a5ed5aa2",
   "metadata": {},
   "outputs": [],
   "source": [
    "#ANS 1:  The re.compile() function responsible for Regex objects."
   ]
  },
  {
   "cell_type": "code",
   "execution_count": null,
   "id": "41713add",
   "metadata": {},
   "outputs": [],
   "source": [
    "#ANS 2: Raw strings are particularly useful when working with regular expressions, as they allow you to specify patterns that may contain backslashes without having to escape them."
   ]
  },
  {
   "cell_type": "code",
   "execution_count": null,
   "id": "46253e03",
   "metadata": {},
   "outputs": [],
   "source": [
    "#ANS 3: The search() method returns Match objects."
   ]
  },
  {
   "cell_type": "code",
   "execution_count": null,
   "id": "f427bf8a",
   "metadata": {},
   "outputs": [],
   "source": [
    "#ANS 4: The group() method returns strings of the matched text."
   ]
  },
  {
   "cell_type": "code",
   "execution_count": null,
   "id": "079a5e20",
   "metadata": {},
   "outputs": [],
   "source": [
    "#ANS 5:  Group 0 is the entire match, group 1 covers the first set of parentheses, and group 2 covers the second set of parentheses."
   ]
  },
  {
   "cell_type": "code",
   "execution_count": null,
   "id": "0fc9e4f4",
   "metadata": {},
   "outputs": [],
   "source": [
    "#ANS 6: Periods and parentheses can be escaped with a backslash: \\., \\(, and \\)."
   ]
  },
  {
   "cell_type": "code",
   "execution_count": null,
   "id": "044f8cf4",
   "metadata": {},
   "outputs": [],
   "source": [
    "#ANS 7: If the regex has no groups, a list of strings is returned. If the regex has groups, a list of tuples of strings is returned."
   ]
  },
  {
   "cell_type": "code",
   "execution_count": null,
   "id": "7b491a60",
   "metadata": {},
   "outputs": [],
   "source": [
    "#ANS 8: The | character signifies matching “either, or” between two groups."
   ]
  },
  {
   "cell_type": "code",
   "execution_count": null,
   "id": "64811ae0",
   "metadata": {},
   "outputs": [],
   "source": [
    "#ANS 9:  The ? character can either mean “match zero or one of the preceding group” or be used to signify non-greedy matching."
   ]
  },
  {
   "cell_type": "code",
   "execution_count": null,
   "id": "577a7bc9",
   "metadata": {},
   "outputs": [],
   "source": [
    "#ANS 10: The + matches one or more. The * matches zero or more."
   ]
  },
  {
   "cell_type": "code",
   "execution_count": null,
   "id": "6f5b139b",
   "metadata": {},
   "outputs": [],
   "source": [
    "#ANS 11: The {4} matches exactly four instances of the preceding group. The {4,5} matches between four and five instances."
   ]
  },
  {
   "cell_type": "code",
   "execution_count": null,
   "id": "08bd0cb3",
   "metadata": {},
   "outputs": [],
   "source": [
    "#ANS 12:  The \\d, \\w, and \\s shorthand character classes match a single digit, word, or space character, respectively."
   ]
  },
  {
   "cell_type": "code",
   "execution_count": null,
   "id": "9ef76fcd",
   "metadata": {},
   "outputs": [],
   "source": [
    "#ANS 13: The \\D, \\W, and \\S shorthand character classes match a single character that is not a digit, word, or space character, respectively."
   ]
  },
  {
   "cell_type": "code",
   "execution_count": null,
   "id": "f4e9d519",
   "metadata": {},
   "outputs": [],
   "source": [
    "#ANS 14: The .* performs a greedy match, and the .*? performs a non-greedy match."
   ]
  },
  {
   "cell_type": "code",
   "execution_count": null,
   "id": "8bdeff90",
   "metadata": {},
   "outputs": [],
   "source": [
    "#ANS 15: Either [0-9a-z] or [a-z0-9]"
   ]
  },
  {
   "cell_type": "code",
   "execution_count": null,
   "id": "fad62e88",
   "metadata": {},
   "outputs": [],
   "source": [
    "#ANS 16: Passing re.I or re.IGNORECASE as the second argument to re.compile() will make the matching case insensitive."
   ]
  },
  {
   "cell_type": "code",
   "execution_count": null,
   "id": "8a04e22f",
   "metadata": {},
   "outputs": [],
   "source": [
    "#ANS 17: The . character normally matches any character except the newline character. If re.DOTALL is passed as the second argument to re.compile(), then the dot will also match newline characters."
   ]
  },
  {
   "cell_type": "code",
   "execution_count": null,
   "id": "647ddd29",
   "metadata": {},
   "outputs": [],
   "source": [
    "#ANS 18: The sub() call will return the string 'X drummers, X pipers, five rings, X hens'."
   ]
  },
  {
   "cell_type": "code",
   "execution_count": null,
   "id": "51148f01",
   "metadata": {},
   "outputs": [],
   "source": [
    "#ANS 19: The re.VERBOSE argument allows you to add whitespace and comments to the string passed to re.compile()."
   ]
  },
  {
   "cell_type": "code",
   "execution_count": 2,
   "id": "779f9837",
   "metadata": {},
   "outputs": [],
   "source": [
    "#ANS 22: re.compile(r'(Alice|Bob|Carol)\\s(eats|pets|throws)\\s(apples|cats|baseballs)\\.', re.IGNORECASE)."
   ]
  },
  {
   "cell_type": "code",
   "execution_count": null,
   "id": "7754da31",
   "metadata": {},
   "outputs": [],
   "source": []
  },
  {
   "cell_type": "code",
   "execution_count": null,
   "id": "b9c2ada2",
   "metadata": {},
   "outputs": [],
   "source": []
  },
  {
   "cell_type": "code",
   "execution_count": null,
   "id": "1692495a",
   "metadata": {},
   "outputs": [],
   "source": []
  },
  {
   "cell_type": "code",
   "execution_count": null,
   "id": "2e67b1ee",
   "metadata": {},
   "outputs": [],
   "source": []
  },
  {
   "cell_type": "code",
   "execution_count": null,
   "id": "b7e7dc1c",
   "metadata": {},
   "outputs": [],
   "source": []
  },
  {
   "cell_type": "code",
   "execution_count": null,
   "id": "9a451792",
   "metadata": {},
   "outputs": [],
   "source": []
  },
  {
   "cell_type": "code",
   "execution_count": null,
   "id": "3f5dac73",
   "metadata": {},
   "outputs": [],
   "source": []
  },
  {
   "cell_type": "code",
   "execution_count": null,
   "id": "31c88a4a",
   "metadata": {},
   "outputs": [],
   "source": []
  },
  {
   "cell_type": "code",
   "execution_count": null,
   "id": "b6e91a96",
   "metadata": {},
   "outputs": [],
   "source": []
  },
  {
   "cell_type": "code",
   "execution_count": null,
   "id": "6e96b24b",
   "metadata": {},
   "outputs": [],
   "source": []
  },
  {
   "cell_type": "code",
   "execution_count": null,
   "id": "f845862c",
   "metadata": {},
   "outputs": [],
   "source": []
  },
  {
   "cell_type": "code",
   "execution_count": null,
   "id": "5914f7ce",
   "metadata": {},
   "outputs": [],
   "source": []
  }
 ],
 "metadata": {
  "kernelspec": {
   "display_name": "Python 3 (ipykernel)",
   "language": "python",
   "name": "python3"
  },
  "language_info": {
   "codemirror_mode": {
    "name": "ipython",
    "version": 3
   },
   "file_extension": ".py",
   "mimetype": "text/x-python",
   "name": "python",
   "nbconvert_exporter": "python",
   "pygments_lexer": "ipython3",
   "version": "3.9.13"
  }
 },
 "nbformat": 4,
 "nbformat_minor": 5
}
