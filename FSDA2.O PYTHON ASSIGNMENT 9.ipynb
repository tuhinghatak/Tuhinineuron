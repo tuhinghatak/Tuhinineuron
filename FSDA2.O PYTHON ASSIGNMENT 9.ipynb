{
 "cells": [
  {
   "cell_type": "code",
   "execution_count": null,
   "id": "d6c2e89e",
   "metadata": {},
   "outputs": [],
   "source": [
    "#ANS 1: Relative paths are relative to the current working directory."
   ]
  },
  {
   "cell_type": "code",
   "execution_count": null,
   "id": "c53ff3a0",
   "metadata": {},
   "outputs": [],
   "source": [
    "#ANS 2:  Absolute paths start with the root folder, such as / or C:\\."
   ]
  },
  {
   "cell_type": "code",
   "execution_count": null,
   "id": "f44be686",
   "metadata": {},
   "outputs": [],
   "source": [
    "#ANS 3: The os.getcwd() function returns the current working directory. The os.chdir() function changes the current working directory."
   ]
  },
  {
   "cell_type": "code",
   "execution_count": null,
   "id": "50166dc9",
   "metadata": {},
   "outputs": [],
   "source": [
    "#ANS 4:  The . folder is the current folder, and .. is the parent folder."
   ]
  },
  {
   "cell_type": "code",
   "execution_count": null,
   "id": "03fcde45",
   "metadata": {},
   "outputs": [],
   "source": [
    "#ANS 5: C:\\bacon\\eggs is the dir name, while spam.txt is the base name."
   ]
  },
  {
   "cell_type": "code",
   "execution_count": null,
   "id": "65d6a135",
   "metadata": {},
   "outputs": [],
   "source": [
    "#ANS 6:  The string 'r' for read mode, 'w' for write mode, and 'a' for append mode."
   ]
  },
  {
   "cell_type": "code",
   "execution_count": null,
   "id": "5a6729c9",
   "metadata": {},
   "outputs": [],
   "source": [
    "#ANS 7:  If an existing file is opened in write mode is erased and completely overwritten."
   ]
  },
  {
   "cell_type": "code",
   "execution_count": null,
   "id": "6ca51a8a",
   "metadata": {},
   "outputs": [],
   "source": [
    "#ANS 8: The read() method returns the file’s entire contents as a single string value. The readlines() method returns a list of strings, where each string is a line from the file’s contents."
   ]
  },
  {
   "cell_type": "code",
   "execution_count": 2,
   "id": "46cce7c0",
   "metadata": {},
   "outputs": [
    {
     "name": "stdout",
     "output_type": "stream",
     "text": [
      "{1: 'USA', 2: 'Canada', 3: 'India'}\n"
     ]
    }
   ],
   "source": [
    "#ans 9: A shelf value resembles a dictionary value; it has keys and values, along with keys() and values() methods that work similarly to the dictionary methods of the same names.\n",
    "Dict = {1: 'USA', 2: 'Canada', 3: 'India'}\n",
    "print(Dict)"
   ]
  },
  {
   "cell_type": "code",
   "execution_count": null,
   "id": "671fecf8",
   "metadata": {},
   "outputs": [],
   "source": []
  },
  {
   "cell_type": "code",
   "execution_count": null,
   "id": "d50ea721",
   "metadata": {},
   "outputs": [],
   "source": []
  },
  {
   "cell_type": "code",
   "execution_count": null,
   "id": "2a7e3ab4",
   "metadata": {},
   "outputs": [],
   "source": []
  },
  {
   "cell_type": "code",
   "execution_count": null,
   "id": "184f84ca",
   "metadata": {},
   "outputs": [],
   "source": []
  },
  {
   "cell_type": "code",
   "execution_count": null,
   "id": "3a593894",
   "metadata": {},
   "outputs": [],
   "source": []
  },
  {
   "cell_type": "code",
   "execution_count": null,
   "id": "e5f7450c",
   "metadata": {},
   "outputs": [],
   "source": []
  },
  {
   "cell_type": "code",
   "execution_count": null,
   "id": "f44f1731",
   "metadata": {},
   "outputs": [],
   "source": []
  },
  {
   "cell_type": "code",
   "execution_count": null,
   "id": "57083fe5",
   "metadata": {},
   "outputs": [],
   "source": []
  },
  {
   "cell_type": "code",
   "execution_count": null,
   "id": "97c62f23",
   "metadata": {},
   "outputs": [],
   "source": []
  },
  {
   "cell_type": "code",
   "execution_count": null,
   "id": "4afcca96",
   "metadata": {},
   "outputs": [],
   "source": []
  },
  {
   "cell_type": "code",
   "execution_count": null,
   "id": "7bbc95ca",
   "metadata": {},
   "outputs": [],
   "source": []
  }
 ],
 "metadata": {
  "kernelspec": {
   "display_name": "Python 3 (ipykernel)",
   "language": "python",
   "name": "python3"
  },
  "language_info": {
   "codemirror_mode": {
    "name": "ipython",
    "version": 3
   },
   "file_extension": ".py",
   "mimetype": "text/x-python",
   "name": "python",
   "nbconvert_exporter": "python",
   "pygments_lexer": "ipython3",
   "version": "3.9.13"
  }
 },
 "nbformat": 4,
 "nbformat_minor": 5
}
