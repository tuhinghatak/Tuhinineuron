{
 "cells": [
  {
   "cell_type": "code",
   "execution_count": null,
   "id": "51dcae0a",
   "metadata": {},
   "outputs": [],
   "source": [
    "#ANS 1: RGBA stands for red, green, blue, and alpha (transparency) in the color\n",
    "#An RGBA value is a tuple of 4 integers, each ranging from 0 to 255. \n",
    "#The four integers correspond to the amount of red, green, blue, and alpha (transparency) in the color."
   ]
  },
  {
   "cell_type": "code",
   "execution_count": 1,
   "id": "41e212a5",
   "metadata": {},
   "outputs": [
    {
     "data": {
      "text/plain": [
       "(255, 0, 0, 255)"
      ]
     },
     "execution_count": 1,
     "metadata": {},
     "output_type": "execute_result"
    }
   ],
   "source": [
    "#ANS 2: \n",
    "from PIL import ImageColor\n",
    "ImageColor.getcolor('green', 'RGBA')\n",
    "ImageColor.getcolor('red', 'RGBA')\n",
    "     "
   ]
  },
  {
   "cell_type": "code",
   "execution_count": null,
   "id": "70c0b9e8",
   "metadata": {},
   "outputs": [],
   "source": [
    "#ANS 3:  A box tuple is a tuple value of four integers: the left edge x-coordinate, the top edge y-coordinate, the width, and the height, respectively."
   ]
  },
  {
   "cell_type": "code",
   "execution_count": 8,
   "id": "902d05e1",
   "metadata": {},
   "outputs": [],
   "source": [
    "#ANS 4: \n",
    "#Image.open('zophie.png')\n",
    "#imageObj.size is a tuple of two integers, the width and the height."
   ]
  },
  {
   "cell_type": "code",
   "execution_count": null,
   "id": "1bcbc061",
   "metadata": {},
   "outputs": [],
   "source": [
    "#ANS 5: ImageObject.crop((0, 50, 50, 50))"
   ]
  },
  {
   "cell_type": "code",
   "execution_count": null,
   "id": "75f22c0d",
   "metadata": {},
   "outputs": [],
   "source": [
    "#ANS 6:  By Calling the imageObj.save('new_filename.png') method of the Image object."
   ]
  },
  {
   "cell_type": "code",
   "execution_count": null,
   "id": "b9def5b8",
   "metadata": {},
   "outputs": [],
   "source": [
    "#ANS 7: The ImageDraw module contains code to draw on images."
   ]
  },
  {
   "cell_type": "code",
   "execution_count": null,
   "id": "1193326d",
   "metadata": {},
   "outputs": [],
   "source": [
    "#ANS 8:  ImageDraw objects have shape-drawing methods such as point(), line(), or rectangle(). They are returned by passing the Image object to the ImageDraw.Draw() function"
   ]
  },
  {
   "cell_type": "code",
   "execution_count": null,
   "id": "1f274988",
   "metadata": {},
   "outputs": [],
   "source": []
  },
  {
   "cell_type": "code",
   "execution_count": null,
   "id": "de21d5ae",
   "metadata": {},
   "outputs": [],
   "source": []
  },
  {
   "cell_type": "code",
   "execution_count": null,
   "id": "bd392ca1",
   "metadata": {},
   "outputs": [],
   "source": []
  },
  {
   "cell_type": "code",
   "execution_count": null,
   "id": "3ee5e820",
   "metadata": {},
   "outputs": [],
   "source": []
  },
  {
   "cell_type": "code",
   "execution_count": null,
   "id": "6dd59b37",
   "metadata": {},
   "outputs": [],
   "source": []
  }
 ],
 "metadata": {
  "kernelspec": {
   "display_name": "Python 3 (ipykernel)",
   "language": "python",
   "name": "python3"
  },
  "language_info": {
   "codemirror_mode": {
    "name": "ipython",
    "version": 3
   },
   "file_extension": ".py",
   "mimetype": "text/x-python",
   "name": "python",
   "nbconvert_exporter": "python",
   "pygments_lexer": "ipython3",
   "version": "3.9.13"
  }
 },
 "nbformat": 4,
 "nbformat_minor": 5
}
