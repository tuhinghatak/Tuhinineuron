{
 "cells": [
  {
   "cell_type": "code",
   "execution_count": null,
   "id": "ff392d58",
   "metadata": {},
   "outputs": [],
   "source": [
    "#ANS 1:  Escape characters represent characters in string values that would otherwise be difficult or impossible to type into code."
   ]
  },
  {
   "cell_type": "code",
   "execution_count": null,
   "id": "f3daeb19",
   "metadata": {},
   "outputs": [],
   "source": [
    "#ANS 2: \\n is for newline while \\t is for new tab."
   ]
  },
  {
   "cell_type": "code",
   "execution_count": null,
   "id": "f8a41a52",
   "metadata": {},
   "outputs": [],
   "source": [
    "#ANS 3: The \\\\ escape character will represent a backlash character."
   ]
  },
  {
   "cell_type": "code",
   "execution_count": null,
   "id": "3d3e6135",
   "metadata": {},
   "outputs": [],
   "source": [
    "#ANS 4: \"Howl's moving castle\" is absolutely fine since double quotes are used to mark the beginning and end of the sentence."
   ]
  },
  {
   "cell_type": "code",
   "execution_count": null,
   "id": "7c737f7e",
   "metadata": {},
   "outputs": [],
   "source": [
    "#ANS 5: Multiline strings allow you to use newlines in strings without the \\n escape character."
   ]
  },
  {
   "cell_type": "code",
   "execution_count": 6,
   "id": "6b8f2bf1",
   "metadata": {},
   "outputs": [],
   "source": [
    "#ANS 6:  'Hello,world!'\n",
    "#[1] is 'e'\n",
    "#[0:5] is 'Hello'\n",
    "#[:5] is 'Hello'\n",
    "#[3:] is 'lo,world'\n"
   ]
  },
  {
   "cell_type": "code",
   "execution_count": 19,
   "id": "74ac7c8b",
   "metadata": {},
   "outputs": [
    {
     "data": {
      "text/plain": [
       "'hello'"
      ]
     },
     "execution_count": 19,
     "metadata": {},
     "output_type": "execute_result"
    }
   ],
   "source": [
    "#ANS 7: \n",
    "\"Hello\".upper()\n",
    "\"Hello\".upper().isupper()\n",
    "\"Hello\".upper().lower()"
   ]
  },
  {
   "cell_type": "code",
   "execution_count": 15,
   "id": "18794914",
   "metadata": {},
   "outputs": [
    {
     "data": {
      "text/plain": [
       "'HELLO'"
      ]
     },
     "execution_count": 15,
     "metadata": {},
     "output_type": "execute_result"
    }
   ],
   "source": [
    "\"Hello\".upper()"
   ]
  },
  {
   "cell_type": "code",
   "execution_count": 17,
   "id": "20e9054c",
   "metadata": {},
   "outputs": [
    {
     "data": {
      "text/plain": [
       "True"
      ]
     },
     "execution_count": 17,
     "metadata": {},
     "output_type": "execute_result"
    }
   ],
   "source": [
    "\"Hello\".upper().isupper()"
   ]
  },
  {
   "cell_type": "code",
   "execution_count": 18,
   "id": "82bc3689",
   "metadata": {},
   "outputs": [
    {
     "data": {
      "text/plain": [
       "'hello'"
      ]
     },
     "execution_count": 18,
     "metadata": {},
     "output_type": "execute_result"
    }
   ],
   "source": [
    "\"Hello\".upper().lower()"
   ]
  },
  {
   "cell_type": "code",
   "execution_count": 20,
   "id": "c5128d32",
   "metadata": {},
   "outputs": [
    {
     "data": {
      "text/plain": [
       "['Remember,remember,', 'the', 'fifth', 'of', 'july.']"
      ]
     },
     "execution_count": 20,
     "metadata": {},
     "output_type": "execute_result"
    }
   ],
   "source": [
    "#ANS 8: \n",
    "\"Remember,remember, the fifth of july.\".split()"
   ]
  },
  {
   "cell_type": "code",
   "execution_count": 22,
   "id": "37600253",
   "metadata": {},
   "outputs": [
    {
     "data": {
      "text/plain": [
       "['There', 'can', 'only', 'one.']"
      ]
     },
     "execution_count": 22,
     "metadata": {},
     "output_type": "execute_result"
    }
   ],
   "source": [
    "(\"There can only one.\".split())"
   ]
  },
  {
   "cell_type": "code",
   "execution_count": null,
   "id": "92d1c54a",
   "metadata": {},
   "outputs": [],
   "source": [
    "#ANS 9:  The rjust(), ljust(), and center() string methods, respectively."
   ]
  },
  {
   "cell_type": "code",
   "execution_count": null,
   "id": "d92f6aac",
   "metadata": {},
   "outputs": [],
   "source": [
    "#ANS 10: The lstrip() and rstrip() methods remove whitespace from the left and right ends of a string, respectively."
   ]
  },
  {
   "cell_type": "code",
   "execution_count": null,
   "id": "4083635c",
   "metadata": {},
   "outputs": [],
   "source": []
  },
  {
   "cell_type": "code",
   "execution_count": null,
   "id": "b7093b93",
   "metadata": {},
   "outputs": [],
   "source": []
  },
  {
   "cell_type": "code",
   "execution_count": null,
   "id": "fdf96c94",
   "metadata": {},
   "outputs": [],
   "source": []
  },
  {
   "cell_type": "code",
   "execution_count": null,
   "id": "60c7313f",
   "metadata": {},
   "outputs": [],
   "source": []
  },
  {
   "cell_type": "code",
   "execution_count": null,
   "id": "bdfce5cc",
   "metadata": {},
   "outputs": [],
   "source": []
  },
  {
   "cell_type": "code",
   "execution_count": null,
   "id": "e88febe2",
   "metadata": {},
   "outputs": [],
   "source": []
  },
  {
   "cell_type": "code",
   "execution_count": null,
   "id": "959a0364",
   "metadata": {},
   "outputs": [],
   "source": []
  },
  {
   "cell_type": "code",
   "execution_count": null,
   "id": "c8048d34",
   "metadata": {},
   "outputs": [],
   "source": []
  },
  {
   "cell_type": "code",
   "execution_count": null,
   "id": "4dd30c50",
   "metadata": {},
   "outputs": [],
   "source": []
  },
  {
   "cell_type": "code",
   "execution_count": null,
   "id": "39a1f029",
   "metadata": {},
   "outputs": [],
   "source": []
  },
  {
   "cell_type": "code",
   "execution_count": null,
   "id": "98d1edd4",
   "metadata": {},
   "outputs": [],
   "source": []
  },
  {
   "cell_type": "code",
   "execution_count": null,
   "id": "4f0307ac",
   "metadata": {},
   "outputs": [],
   "source": []
  }
 ],
 "metadata": {
  "kernelspec": {
   "display_name": "Python 3 (ipykernel)",
   "language": "python",
   "name": "python3"
  },
  "language_info": {
   "codemirror_mode": {
    "name": "ipython",
    "version": 3
   },
   "file_extension": ".py",
   "mimetype": "text/x-python",
   "name": "python",
   "nbconvert_exporter": "python",
   "pygments_lexer": "ipython3",
   "version": "3.9.13"
  }
 },
 "nbformat": 4,
 "nbformat_minor": 5
}
