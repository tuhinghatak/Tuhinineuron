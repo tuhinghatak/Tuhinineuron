{
 "cells": [
  {
   "cell_type": "code",
   "execution_count": null,
   "id": "4de08aae",
   "metadata": {},
   "outputs": [],
   "source": [
    "#Q1 1. In the below elements which of them are values or an expression? eg:- values can be integer or string and expressions will be mathematical operators.\n",
    "*\n",
    "hello\n",
    "-87.8\n",
    "-\n",
    "/\n",
    "+\n",
    "6"
   ]
  },
  {
   "cell_type": "code",
   "execution_count": 38,
   "id": "bb9d326e",
   "metadata": {},
   "outputs": [],
   "source": [
    "#Ans 1 :\n",
    "#* is an expression as it is used in multiplication which is mathematical operator.\n",
    "\n",
    "#\"hello\" is a string which is a value. \n",
    "\n",
    "#-87.8 is a float which is a value.\n",
    "\n",
    "#- is an expression and used as mathematical operator.\n",
    "\n",
    "#/ is a float division which is an expression.\n",
    "\n",
    "#+ is an expression.\n",
    "\n",
    "#6 is an integer which is a value.\n",
    "\n",
    "\n",
    "\n",
    "\n"
   ]
  },
  {
   "cell_type": "code",
   "execution_count": 3,
   "id": "04c276c5",
   "metadata": {},
   "outputs": [],
   "source": [
    "#2. What is the difference between string and variable?"
   ]
  },
  {
   "cell_type": "code",
   "execution_count": 12,
   "id": "a34a7e8e",
   "metadata": {},
   "outputs": [
    {
     "data": {
      "text/plain": [
       "str"
      ]
     },
     "execution_count": 12,
     "metadata": {},
     "output_type": "execute_result"
    }
   ],
   "source": [
    "#ANS 2. A Variable is a store of information, and a String is a type of information you would store in a Variable. A String is usually words, enclosed with \"\"\n",
    "a = \"welcome to ineuron\" \n",
    "type(a)\n",
    "#here a is the variable and the type of values it stores is string."
   ]
  },
  {
   "cell_type": "code",
   "execution_count": null,
   "id": "f387747b",
   "metadata": {},
   "outputs": [],
   "source": [
    "#3 3. Describe three different data types."
   ]
  },
  {
   "cell_type": "code",
   "execution_count": null,
   "id": "521efec7",
   "metadata": {},
   "outputs": [],
   "source": [
    "#ANS3:\n",
    "#There are three distinct numeric types: integers- 1,2,3,45, floating point numbers- 3.75,4.987, and complex numbers- 10+9J."
   ]
  },
  {
   "cell_type": "code",
   "execution_count": null,
   "id": "527660b8",
   "metadata": {},
   "outputs": [],
   "source": [
    "#4 What is an expression made up of? What do all expressions do?"
   ]
  },
  {
   "cell_type": "code",
   "execution_count": 17,
   "id": "25f55348",
   "metadata": {},
   "outputs": [
    {
     "name": "stdout",
     "output_type": "stream",
     "text": [
      "28\n"
     ]
    }
   ],
   "source": [
    "#ANS 4:\n",
    "#A combination of operands and operators is called an expression.The expression in Python produces some value or result after being interpreted by the Python interpreter.\n",
    "\n",
    "i = 18 # a statement\n",
    "i = i + 10 #an expression\n",
    "print(i)    \n",
    "#The expression in Python produces some value or result after being interpreted by the Python interpreter."
   ]
  },
  {
   "cell_type": "code",
   "execution_count": null,
   "id": "79f00cfe",
   "metadata": {},
   "outputs": [],
   "source": [
    "#5. This assignment statements, like spam = 10. What is the difference between an  expression and a statement?"
   ]
  },
  {
   "cell_type": "code",
   "execution_count": 23,
   "id": "df547d3e",
   "metadata": {},
   "outputs": [
    {
     "name": "stdout",
     "output_type": "stream",
     "text": [
      "12\n"
     ]
    }
   ],
   "source": [
    "#ANS 5: A statement is used for creating variables or for displaying values.The expression in Python produces some value or result after being interpreted by the Python interpreter.\n",
    "spam = 10 # a statement\n",
    "spam = 10 + 2 # an expression\n",
    "print(spam)\n"
   ]
  },
  {
   "cell_type": "code",
   "execution_count": 32,
   "id": "55e95a6e",
   "metadata": {},
   "outputs": [
    {
     "name": "stdout",
     "output_type": "stream",
     "text": [
      "22\n"
     ]
    }
   ],
   "source": [
    "#6ANS 6. After running the following code, what does the variable bacon contain?\n",
    "bacon = 22\n",
    "bacon + 1\n",
    "print(bacon) # it's still gonna contain 22."
   ]
  },
  {
   "cell_type": "code",
   "execution_count": null,
   "id": "94982171",
   "metadata": {},
   "outputs": [],
   "source": [
    "#7. What should the values of the following two terms be?\n",
    "# 'spam' + 'spamspam'\n",
    "# 'spam'*3"
   ]
  },
  {
   "cell_type": "code",
   "execution_count": 34,
   "id": "b4934632",
   "metadata": {},
   "outputs": [
    {
     "data": {
      "text/plain": [
       "'spamspamspam'"
      ]
     },
     "execution_count": 34,
     "metadata": {},
     "output_type": "execute_result"
    }
   ],
   "source": [
    "#ANS 7\n",
    "'spam'+'spamspam'\n",
    "'spam'*3 \n",
    "# The values of both would be same.  "
   ]
  },
  {
   "cell_type": "code",
   "execution_count": null,
   "id": "52caa1cb",
   "metadata": {},
   "outputs": [],
   "source": [
    "#8 8. Why is eggs a valid variable name while 100 is invalid?"
   ]
  },
  {
   "cell_type": "code",
   "execution_count": 36,
   "id": "93574d8a",
   "metadata": {},
   "outputs": [
    {
     "data": {
      "text/plain": [
       "18"
      ]
     },
     "execution_count": 36,
     "metadata": {},
     "output_type": "execute_result"
    }
   ],
   "source": [
    "#ANS 8 : Becaus variables in python cannot start with a number. It has to be a letter of alphabet or with an underscore.\n",
    "eggs = 18\n",
    "eggs # here eggs is a valid variable."
   ]
  },
  {
   "cell_type": "code",
   "execution_count": null,
   "id": "754a8b10",
   "metadata": {},
   "outputs": [],
   "source": [
    "#9 What three functions can be used to get the integer, floating-point number, or string version of a value?"
   ]
  },
  {
   "cell_type": "code",
   "execution_count": null,
   "id": "b759d6b6",
   "metadata": {},
   "outputs": [],
   "source": [
    "#ANS 9 :  The integer, float point number, and string functions will evaluate to the integer, floating-point number, and string versions of the value that has been passed to them and interpreted by python interpreter."
   ]
  },
  {
   "cell_type": "code",
   "execution_count": null,
   "id": "5ebfdb26",
   "metadata": {},
   "outputs": [],
   "source": [
    "#10 : 10. Why does this expression cause an error? How can you fix it? I have eaten + 99 + burritos.\n"
   ]
  },
  {
   "cell_type": "code",
   "execution_count": 37,
   "id": "68591454",
   "metadata": {},
   "outputs": [
    {
     "data": {
      "text/plain": [
       "'i have eaten 99 burritos'"
      ]
     },
     "execution_count": 37,
     "metadata": {},
     "output_type": "execute_result"
    }
   ],
   "source": [
    "#ANS 10: It causes an error because 99 is an integer, and only strings can be concatenated to other strings with the + operator.\n",
    "#correct way would be :\n",
    "'i have eaten ' + '99' + ' burritos'"
   ]
  },
  {
   "cell_type": "code",
   "execution_count": null,
   "id": "8cc9e0db",
   "metadata": {},
   "outputs": [],
   "source": []
  }
 ],
 "metadata": {
  "kernelspec": {
   "display_name": "Python 3 (ipykernel)",
   "language": "python",
   "name": "python3"
  },
  "language_info": {
   "codemirror_mode": {
    "name": "ipython",
    "version": 3
   },
   "file_extension": ".py",
   "mimetype": "text/x-python",
   "name": "python",
   "nbconvert_exporter": "python",
   "pygments_lexer": "ipython3",
   "version": "3.9.13"
  }
 },
 "nbformat": 4,
 "nbformat_minor": 5
}
