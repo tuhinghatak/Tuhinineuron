{
 "cells": [
  {
   "cell_type": "code",
   "execution_count": 11,
   "id": "ced4ef0d",
   "metadata": {},
   "outputs": [],
   "source": [
    "import statistics \n",
    "from matplotlib import pyplot as plt\n",
    "import numpy as np\n",
    "import scipy.stats as st"
   ]
  },
  {
   "cell_type": "code",
   "execution_count": null,
   "id": "b9aac8ba",
   "metadata": {},
   "outputs": [],
   "source": [
    "#Q1:  Plot a histogram,10, 13, 18, 22, 27, 32, 38, 40, 45, 51, 56, 57, 88, 90, 92, 94, 99\n"
   ]
  },
  {
   "cell_type": "code",
   "execution_count": 15,
   "id": "25d61f4d",
   "metadata": {},
   "outputs": [
    {
     "data": {
      "image/png": "[encoded data removed]",
      "text/plain": [
       "<Figure size 600x400 with 1 Axes>"
      ]
     },
     "metadata": {},
     "output_type": "display_data"
    }
   ],
   "source": [
    "#ANS 1:\n",
    "#creating datasets\n",
    "a = np.array([10, 13, 18, 22, 27, 32, 38, 40, 45, 51, 56, 57, 88, 90, 92, 94, 99])\n",
    "#creating histogram\n",
    "fig, ax = plt.subplots(figsize =(6, 4))\n",
    "ax.hist(a, bins = [0, 25, 50, 75, 100])\n",
    "#show plot\n",
    "plt.show()"
   ]
  },
  {
   "cell_type": "code",
   "execution_count": 10,
   "id": "2a721ef3",
   "metadata": {},
   "outputs": [
    {
     "data": {
      "text/plain": [
       "'Que 2) In a quant test of the CAT Exam, the population standard deviation is known to be 100. A sample of 25 tests taken has a mean of 520. Construct an 80% CI about the mean.\\n'"
      ]
     },
     "execution_count": 10,
     "metadata": {},
     "output_type": "execute_result"
    }
   ],
   "source": [
    "\"Que 2) In a quant test of the CAT Exam, the population standard deviation is known to be 100. A sample of 25 tests taken has a mean of 520. Construct an 80% CI about the mean.\\n\"\n"
   ]
  },
  {
   "cell_type": "code",
   "execution_count": 16,
   "id": "512b4dfd",
   "metadata": {},
   "outputs": [
    {
     "name": "stdout",
     "output_type": "stream",
     "text": [
      "80% Confidence Interval about the mean: (494.368968689108, 545.631031310892)\n"
     ]
    }
   ],
   "source": [
    "#ANS 2: \n",
    "import scipy.stats as stats\n",
    "import numpy as np\n",
    "\n",
    "# Given data\n",
    "population_std_dev = 100\n",
    "sample_mean = 520\n",
    "sample_size = 25\n",
    "confidence_level = 0.80\n",
    "\n",
    "# Calculate the standard error of the mean (SEM)\n",
    "sem = population_std_dev / np.sqrt(sample_size)\n",
    "\n",
    "# Find the critical value (Z) for the given confidence level\n",
    "z_critical = stats.norm.ppf((1 + confidence_level) / 2)\n",
    "\n",
    "# Calculate the margin of error\n",
    "margin_of_error = z_critical * sem\n",
    "\n",
    "# Calculate the confidence interval\n",
    "confidence_interval = (sample_mean - margin_of_error, sample_mean + margin_of_error)\n",
    "\n",
    "# Print the result\n",
    "print(f\"80% Confidence Interval about the mean: {confidence_interval}\")"
   ]
  },
  {
   "cell_type": "code",
   "execution_count": null,
   "id": "d2b1590d",
   "metadata": {},
   "outputs": [],
   "source": [
    "#Q3: A car believes that the percentage of citizens in city ABC that owns a vehicle is 60% or less. A sales manager disagrees with this. He conducted a hypothesis testing surveying 250 residents & found that 170 residents responded yes to owning a vehicle.\n",
    "# a) State the null & alternate hypothesis.\n",
    "# b) At a 10% significance level, is there enough evidence to support the idea that vehicle owner in ABC city is 60% or less.\n"
   ]
  },
  {
   "cell_type": "code",
   "execution_count": null,
   "id": "aefc1834",
   "metadata": {},
   "outputs": [],
   "source": []
  },
  {
   "cell_type": "code",
   "execution_count": 37,
   "id": "64f40ea2",
   "metadata": {},
   "outputs": [
    {
     "name": "stdout",
     "output_type": "stream",
     "text": [
      "Z-Score : 2.5819888974716134\n",
      "Critical Z-Score : 1.2815515655446004\n",
      "Reject Null Hypothesis\n",
      "p-value : 0.004911637253759538\n",
      "Reject Null Hypothesis\n"
     ]
    }
   ],
   "source": [
    "#ANS 3 : \n",
    "# Import the necessary libraries\n",
    "import numpy as np\n",
    "import scipy.stats as stats\n",
    "\n",
    "# Given information\n",
    "sample_mean = 0.68\n",
    "population_mean = 0.60\n",
    "population_std = 0.24\n",
    "sample_size = 250\n",
    "alpha = 0.1\n",
    "\n",
    "\n",
    "# compute the z-score\n",
    "z_score = (sample_mean-population_mean)/(np.sqrt(population_std/(250)))\n",
    "print('Z-Score :',z_score)\n",
    "\n",
    "# Approach 1: Using Critical Z-Score\n",
    "\n",
    "# Critical Z-Score\n",
    "z_critical = stats.norm.ppf(1-alpha)\n",
    "print('Critical Z-Score :',z_critical)\n",
    "\n",
    "# Hypothesis\n",
    "if z_score > z_critical:\n",
    "    print(\"Reject Null Hypothesis\")\n",
    "else:\n",
    "    print(\"Fail to Reject Null Hypothesis\")\n",
    "\n",
    "# Approach 2: Using P-value\n",
    "\t\n",
    "# P-Value : Probability of getting less than a Z-score\n",
    "p_value = 1-stats.norm.cdf(z_score)\n",
    "\n",
    "print('p-value :',p_value)\n",
    "\n",
    "# Hypothesis\n",
    "if p_value < alpha:\n",
    "    print(\"Reject Null Hypothesis\")\n",
    "else:\n",
    "    print(\"Fail to Reject Null Hypothesis\")\n"
   ]
  },
  {
   "cell_type": "code",
   "execution_count": null,
   "id": "05d07bb7",
   "metadata": {},
   "outputs": [],
   "source": [
    "#Q4 : What is the value of the 99 percentile?\n",
    "#2,2,3,4,5,5,5,6,7,8,8,8,8,8,9,9,10,11,11,12\n"
   ]
  },
  {
   "cell_type": "markdown",
   "id": "9d8e06c4",
   "metadata": {},
   "source": [
    "ANS 4 : \n",
    "Value = percentile/100 * (n+1), [where n is the number of obsevations]\n",
    "value = 99/100 * (20+1)\n",
    "value = 20.79 [Index Position]\n",
    "So by going by the index position of 20.79, it is 12 as the 99 percentile."
   ]
  },
  {
   "cell_type": "code",
   "execution_count": null,
   "id": "d8394de1",
   "metadata": {},
   "outputs": [],
   "source": [
    "#Q5 In left & right-skewed data, what is the relationship between mean, median & mode?\n",
    "#Draw the graph to represent the same.\n"
   ]
  },
  {
   "cell_type": "markdown",
   "id": "d6d425f9",
   "metadata": {},
   "source": [
    "ANS 5: \n",
    "if the distribution of data is skewed to the right (positive skewness) mean is larger than median and mode.\n",
    "mean > median > mode\n",
    "if the distribution of data is skewed to the left (negative skewness) mean is smaller than median and mode.\n",
    "mean < median < mode"
   ]
  },
  {
   "cell_type": "code",
   "execution_count": 40,
   "id": "c9fe3635",
   "metadata": {},
   "outputs": [
    {
     "name": "stderr",
     "output_type": "stream",
     "text": [
      "C:\\Users\\hp\\AppData\\Local\\Temp\\ipykernel_14100\\1979662606.py:15: FutureWarning: Unlike other reduction functions (e.g. `skew`, `kurtosis`), the default behavior of `mode` typically preserves the axis it acts along. In SciPy 1.11.0, this behavior will change: the default value of `keepdims` will become False, the `axis` over which the statistic is taken will be eliminated, and the value None will no longer be accepted. Set `keepdims` to True or False to avoid this warning.\n",
      "  left_skewed_mode = stats.mode(left_skewed_data).mode[0]\n",
      "C:\\Users\\hp\\AppData\\Local\\Temp\\ipykernel_14100\\1979662606.py:19: FutureWarning: Unlike other reduction functions (e.g. `skew`, `kurtosis`), the default behavior of `mode` typically preserves the axis it acts along. In SciPy 1.11.0, this behavior will change: the default value of `keepdims` will become False, the `axis` over which the statistic is taken will be eliminated, and the value None will no longer be accepted. Set `keepdims` to True or False to avoid this warning.\n",
      "  right_skewed_mode = stats.mode(right_skewed_data).mode[0]\n"
     ]
    },
    {
     "data": {
      "image/png": "[encoded data removed]",
      "text/plain": [
       "<Figure size 800x400 with 2 Axes>"
      ]
     },
     "metadata": {},
     "output_type": "display_data"
    }
   ],
   "source": [
    "import numpy as np\n",
    "import pandas as pd\n",
    "import matplotlib.pyplot as plt\n",
    "import seaborn as sns\n",
    "import scipy.stats as stats\n",
    "import statsmodels.api as sm\n",
    "\n",
    "left_skewed_data = np.random.exponential(scale=2, size=1000)\n",
    "\n",
    "right_skewed_data = -np.random.exponential(scale=2, size=1000)\n",
    "\n",
    "\n",
    "left_skewed_mean = np.mean(left_skewed_data)\n",
    "left_skewed_median = np.median(left_skewed_data)\n",
    "left_skewed_mode = stats.mode(left_skewed_data).mode[0]\n",
    "\n",
    "right_skewed_mean = np.mean(right_skewed_data)\n",
    "right_skewed_median = np.median(right_skewed_data)\n",
    "right_skewed_mode = stats.mode(right_skewed_data).mode[0]\n",
    "\n",
    "plt.figure(figsize=(8, 4))\n",
    "\n",
    "plt.subplot(1, 2, 1)\n",
    "plt.hist(left_skewed_data, bins=30, color='blue', alpha=0.7)\n",
    "plt.axvline(left_skewed_mean, color='red', linestyle='dashed', linewidth=2, label='Mean')\n",
    "plt.axvline(left_skewed_median, color='green', linestyle='dashed', linewidth=2, label='Median')\n",
    "plt.axvline(left_skewed_mode, color='purple', linestyle='dashed', linewidth=2, label='Mode')\n",
    "plt.title('Left-Skewed Data')\n",
    "plt.legend()\n",
    "\n",
    "plt.subplot(1, 2, 2)\n",
    "plt.hist(right_skewed_data, bins=30, color='orange', alpha=0.7)\n",
    "plt.axvline(right_skewed_mean, color='red', linestyle='dashed', linewidth=2, label='Mean')\n",
    "plt.axvline(right_skewed_median, color='green', linestyle='dashed', linewidth=2, label='Median')\n",
    "plt.axvline(right_skewed_mode, color='purple', linestyle='dashed', linewidth=2, label='Mode')\n",
    "plt.title('Right-Skewed Data')\n",
    "plt.legend()\n",
    "\n",
    "plt.tight_layout()\n",
    "plt.show()"
   ]
  },
  {
   "cell_type": "code",
   "execution_count": null,
   "id": "48264259",
   "metadata": {},
   "outputs": [],
   "source": []
  },
  {
   "cell_type": "code",
   "execution_count": null,
   "id": "56165aaa",
   "metadata": {},
   "outputs": [],
   "source": []
  },
  {
   "cell_type": "code",
   "execution_count": null,
   "id": "14a2daeb",
   "metadata": {},
   "outputs": [],
   "source": []
  },
  {
   "cell_type": "code",
   "execution_count": null,
   "id": "f6c7d78d",
   "metadata": {},
   "outputs": [],
   "source": []
  },
  {
   "cell_type": "code",
   "execution_count": null,
   "id": "74e84a4d",
   "metadata": {},
   "outputs": [],
   "source": []
  },
  {
   "cell_type": "code",
   "execution_count": null,
   "id": "81c79ddf",
   "metadata": {},
   "outputs": [],
   "source": []
  },
  {
   "cell_type": "code",
   "execution_count": null,
   "id": "bdf9caaf",
   "metadata": {},
   "outputs": [],
   "source": []
  },
  {
   "cell_type": "code",
   "execution_count": null,
   "id": "62be1897",
   "metadata": {},
   "outputs": [],
   "source": []
  },
  {
   "cell_type": "code",
   "execution_count": null,
   "id": "48c677ef",
   "metadata": {},
   "outputs": [],
   "source": []
  },
  {
   "cell_type": "code",
   "execution_count": null,
   "id": "cd230924",
   "metadata": {},
   "outputs": [],
   "source": []
  },
  {
   "cell_type": "code",
   "execution_count": null,
   "id": "1ca1fce9",
   "metadata": {},
   "outputs": [],
   "source": []
  },
  {
   "cell_type": "code",
   "execution_count": null,
   "id": "320311f3",
   "metadata": {},
   "outputs": [],
   "source": []
  },
  {
   "cell_type": "code",
   "execution_count": null,
   "id": "4102b0bf",
   "metadata": {},
   "outputs": [],
   "source": []
  },
  {
   "cell_type": "code",
   "execution_count": null,
   "id": "8dc84c41",
   "metadata": {},
   "outputs": [],
   "source": []
  },
  {
   "cell_type": "code",
   "execution_count": null,
   "id": "cf78a5a1",
   "metadata": {},
   "outputs": [],
   "source": []
  },
  {
   "cell_type": "code",
   "execution_count": null,
   "id": "38de716f",
   "metadata": {},
   "outputs": [],
   "source": []
  },
  {
   "cell_type": "code",
   "execution_count": null,
   "id": "aca0cdee",
   "metadata": {},
   "outputs": [],
   "source": []
  },
  {
   "cell_type": "code",
   "execution_count": null,
   "id": "663a1c5b",
   "metadata": {},
   "outputs": [],
   "source": []
  },
  {
   "cell_type": "code",
   "execution_count": null,
   "id": "34a55092",
   "metadata": {},
   "outputs": [],
   "source": []
  },
  {
   "cell_type": "code",
   "execution_count": null,
   "id": "9384193a",
   "metadata": {},
   "outputs": [],
   "source": []
  },
  {
   "cell_type": "code",
   "execution_count": null,
   "id": "e12e0a1a",
   "metadata": {},
   "outputs": [],
   "source": []
  },
  {
   "cell_type": "code",
   "execution_count": null,
   "id": "66a81590",
   "metadata": {},
   "outputs": [],
   "source": []
  },
  {
   "cell_type": "code",
   "execution_count": null,
   "id": "7c0f9066",
   "metadata": {},
   "outputs": [],
   "source": []
  },
  {
   "cell_type": "code",
   "execution_count": null,
   "id": "afb77383",
   "metadata": {},
   "outputs": [],
   "source": []
  },
  {
   "cell_type": "code",
   "execution_count": null,
   "id": "2f2bb94c",
   "metadata": {},
   "outputs": [],
   "source": []
  },
  {
   "cell_type": "code",
   "execution_count": null,
   "id": "90286575",
   "metadata": {},
   "outputs": [],
   "source": []
  },
  {
   "cell_type": "code",
   "execution_count": null,
   "id": "41c38e7a",
   "metadata": {},
   "outputs": [],
   "source": []
  },
  {
   "cell_type": "code",
   "execution_count": null,
   "id": "3424dc0e",
   "metadata": {},
   "outputs": [],
   "source": []
  },
  {
   "cell_type": "code",
   "execution_count": null,
   "id": "70d9eda8",
   "metadata": {},
   "outputs": [],
   "source": []
  },
  {
   "cell_type": "code",
   "execution_count": null,
   "id": "b2930aed",
   "metadata": {},
   "outputs": [],
   "source": []
  },
  {
   "cell_type": "code",
   "execution_count": null,
   "id": "eb139d8e",
   "metadata": {},
   "outputs": [],
   "source": []
  },
  {
   "cell_type": "code",
   "execution_count": null,
   "id": "11006ee6",
   "metadata": {},
   "outputs": [],
   "source": []
  },
  {
   "cell_type": "code",
   "execution_count": null,
   "id": "11579e18",
   "metadata": {},
   "outputs": [],
   "source": []
  },
  {
   "cell_type": "code",
   "execution_count": null,
   "id": "67d22647",
   "metadata": {},
   "outputs": [],
   "source": []
  },
  {
   "cell_type": "code",
   "execution_count": null,
   "id": "c03b9cb9",
   "metadata": {},
   "outputs": [],
   "source": []
  },
  {
   "cell_type": "code",
   "execution_count": null,
   "id": "fce6fd3c",
   "metadata": {},
   "outputs": [],
   "source": []
  },
  {
   "cell_type": "code",
   "execution_count": null,
   "id": "69da2ad3",
   "metadata": {},
   "outputs": [],
   "source": []
  },
  {
   "cell_type": "code",
   "execution_count": null,
   "id": "47170064",
   "metadata": {},
   "outputs": [],
   "source": []
  }
 ],
 "metadata": {
  "kernelspec": {
   "display_name": "Python 3 (ipykernel)",
   "language": "python",
   "name": "python3"
  },
  "language_info": {
   "codemirror_mode": {
    "name": "ipython",
    "version": 3
   },
   "file_extension": ".py",
   "mimetype": "text/x-python",
   "name": "python",
   "nbconvert_exporter": "python",
   "pygments_lexer": "ipython3",
   "version": "3.9.13"
  }
 },
 "nbformat": 4,
 "nbformat_minor": 5
}
