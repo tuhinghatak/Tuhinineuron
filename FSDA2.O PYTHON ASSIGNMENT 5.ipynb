{
 "cells": [
  {
   "cell_type": "code",
   "execution_count": null,
   "id": "acb37d6f",
   "metadata": {},
   "outputs": [],
   "source": [
    "#ANS 1: {}, Two curly brackets"
   ]
  },
  {
   "cell_type": "code",
   "execution_count": null,
   "id": "1ae89154",
   "metadata": {},
   "outputs": [],
   "source": [
    "#ANS 2: {foo:42}"
   ]
  },
  {
   "cell_type": "code",
   "execution_count": 1,
   "id": "c6eea6b9",
   "metadata": {},
   "outputs": [],
   "source": [
    "#ANS 3: The items stored in a dictionary are unordered, while the items in a list are ordered."
   ]
  },
  {
   "cell_type": "code",
   "execution_count": null,
   "id": "68db375f",
   "metadata": {},
   "outputs": [],
   "source": [
    "#ANS 4: You will get an error."
   ]
  },
  {
   "cell_type": "code",
   "execution_count": null,
   "id": "f7e64244",
   "metadata": {},
   "outputs": [],
   "source": [
    "#ANS 5:  There is no difference. The in operator checks whether a value exists as a key in the dictionary."
   ]
  },
  {
   "cell_type": "code",
   "execution_count": null,
   "id": "ba9ad9ce",
   "metadata": {},
   "outputs": [],
   "source": [
    "#ANS 6: The 'cat' in spam checks whether there is a 'cat' key in the dictionary, while 'cat' in spam.values() checks whether there is a value 'cat' for one of the keys in spam."
   ]
  },
  {
   "cell_type": "code",
   "execution_count": null,
   "id": "751de0bc",
   "metadata": {},
   "outputs": [],
   "source": [
    "#ANS 7: spam.setdefault('color', 'black')"
   ]
  },
  {
   "cell_type": "code",
   "execution_count": null,
   "id": "970dcb32",
   "metadata": {},
   "outputs": [],
   "source": [
    "#ANS 8: pprint.pprint()"
   ]
  },
  {
   "cell_type": "code",
   "execution_count": null,
   "id": "0ad84fa8",
   "metadata": {},
   "outputs": [],
   "source": []
  },
  {
   "cell_type": "code",
   "execution_count": null,
   "id": "33ce562d",
   "metadata": {},
   "outputs": [],
   "source": []
  },
  {
   "cell_type": "code",
   "execution_count": null,
   "id": "2af7fa4e",
   "metadata": {},
   "outputs": [],
   "source": []
  },
  {
   "cell_type": "code",
   "execution_count": null,
   "id": "3b44e3fe",
   "metadata": {},
   "outputs": [],
   "source": []
  },
  {
   "cell_type": "code",
   "execution_count": null,
   "id": "1df8991b",
   "metadata": {},
   "outputs": [],
   "source": []
  },
  {
   "cell_type": "code",
   "execution_count": null,
   "id": "2f4b8f78",
   "metadata": {},
   "outputs": [],
   "source": []
  },
  {
   "cell_type": "code",
   "execution_count": null,
   "id": "5303758b",
   "metadata": {},
   "outputs": [],
   "source": []
  },
  {
   "cell_type": "code",
   "execution_count": null,
   "id": "3dcc0d12",
   "metadata": {},
   "outputs": [],
   "source": []
  }
 ],
 "metadata": {
  "kernelspec": {
   "display_name": "Python 3 (ipykernel)",
   "language": "python",
   "name": "python3"
  },
  "language_info": {
   "codemirror_mode": {
    "name": "ipython",
    "version": 3
   },
   "file_extension": ".py",
   "mimetype": "text/x-python",
   "name": "python",
   "nbconvert_exporter": "python",
   "pygments_lexer": "ipython3",
   "version": "3.9.13"
  }
 },
 "nbformat": 4,
 "nbformat_minor": 5
}
