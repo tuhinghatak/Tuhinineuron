{
 "cells": [
  {
   "cell_type": "code",
   "execution_count": null,
   "id": "f4c4e333",
   "metadata": {},
   "outputs": [],
   "source": [
    "#ANS 1: It is a binary file that holds information about all the worksheets in a workbook\n",
    "#An Excel not only stores data but can also do operations on the data.\n",
    "#Files saved in excel cannot be opened or edited by text editors.\n",
    "#large files user is much easier in Excel for the end user. Also, you can have additional functions like selecting individual cells for import, convert dates and time automatically, reading formulas and their results, filters, sorting, etc.\n",
    "#Apart from text, data can also be stored in form of charts and graphs\n",
    "#Excel can connect to external data sources to fetch data. You can use custom add-in in Excel to increase its functionality.\n",
    "#Excel allows for Review of Data with detailed tracking and commenting feature.\n",
    "#In Excel, spreadsheets can have values of data types other than strings; cells can have different fonts, sizes, or color settings; cells can have varying widths and heights; adjacent cells can be merged."
   ]
  },
  {
   "cell_type": "code",
   "execution_count": 2,
   "id": "5ef5afd7",
   "metadata": {},
   "outputs": [
    {
     "ename": "FileNotFoundError",
     "evalue": "[Errno 2] No such file or directory: 'abc.csv'",
     "output_type": "error",
     "traceback": [
      "\u001b[1;31m---------------------------------------------------------------------------\u001b[0m",
      "\u001b[1;31mFileNotFoundError\u001b[0m                         Traceback (most recent call last)",
      "\u001b[1;32m~\\AppData\\Local\\Temp\\ipykernel_5328\\1986883720.py\u001b[0m in \u001b[0;36m<module>\u001b[1;34m\u001b[0m\n\u001b[0;32m      1\u001b[0m \u001b[1;31m#ANS 2: we pass a File object, obtained from a call to open().\u001b[0m\u001b[1;33m\u001b[0m\u001b[1;33m\u001b[0m\u001b[0m\n\u001b[0;32m      2\u001b[0m \u001b[1;32mimport\u001b[0m \u001b[0mcsv\u001b[0m\u001b[1;33m\u001b[0m\u001b[1;33m\u001b[0m\u001b[0m\n\u001b[1;32m----> 3\u001b[1;33m \u001b[0mfile_csv\u001b[0m \u001b[1;33m=\u001b[0m \u001b[0mopen\u001b[0m\u001b[1;33m(\u001b[0m\u001b[1;34m'abc.csv'\u001b[0m\u001b[1;33m)\u001b[0m\u001b[1;33m\u001b[0m\u001b[1;33m\u001b[0m\u001b[0m\n\u001b[0m\u001b[0;32m      4\u001b[0m \u001b[0mfilereader\u001b[0m \u001b[1;33m=\u001b[0m \u001b[0mcsv\u001b[0m\u001b[1;33m.\u001b[0m\u001b[0mreader\u001b[0m\u001b[1;33m(\u001b[0m\u001b[0mfile_csv\u001b[0m\u001b[1;33m)\u001b[0m\u001b[1;33m\u001b[0m\u001b[1;33m\u001b[0m\u001b[0m\n\u001b[0;32m      5\u001b[0m \u001b[0mfileData\u001b[0m \u001b[1;33m=\u001b[0m \u001b[0mlist\u001b[0m\u001b[1;33m(\u001b[0m\u001b[0mfilereader\u001b[0m\u001b[1;33m)\u001b[0m\u001b[1;33m\u001b[0m\u001b[1;33m\u001b[0m\u001b[0m\n",
      "\u001b[1;31mFileNotFoundError\u001b[0m: [Errno 2] No such file or directory: 'abc.csv'"
     ]
    }
   ],
   "source": [
    "#ANS 2: we pass a File object, obtained from a call to open().\n",
    "import csv\n",
    "file_csv = open('abc.csv')\n",
    "filereader = csv.reader(file_csv)\n",
    "fileData = list(filereader)\n",
    "fileData\n"
   ]
  },
  {
   "cell_type": "code",
   "execution_count": null,
   "id": "3e6a993a",
   "metadata": {},
   "outputs": [],
   "source": [
    "#ANS 3:  File objects need to be opened in read-binary ('rb') for Reader objects and write-binary ('wb') for Writer objects."
   ]
  },
  {
   "cell_type": "code",
   "execution_count": 3,
   "id": "473cef2b",
   "metadata": {},
   "outputs": [
    {
     "data": {
      "text/plain": [
       "14"
      ]
     },
     "execution_count": 3,
     "metadata": {},
     "output_type": "execute_result"
    }
   ],
   "source": [
    "#ANS 4:  The writerow() method\n",
    "File_abc = open('abc.csv','w')\n",
    "File_Writer = csv.writer(File_abc)\n",
    "csv.writer(File_abc).writerow(['cat','fish','dog'])"
   ]
  },
  {
   "cell_type": "code",
   "execution_count": null,
   "id": "03c9adbd",
   "metadata": {},
   "outputs": [],
   "source": [
    "#ANS 5: \n",
    "#The delimiter argument changes the string used to separate cells in a row.\n",
    "#The line terminator argument changes the string used to separate rows."
   ]
  },
  {
   "cell_type": "code",
   "execution_count": 5,
   "id": "fa0c2f36",
   "metadata": {},
   "outputs": [],
   "source": [
    "#ANS 6: json.loads()"
   ]
  },
  {
   "cell_type": "code",
   "execution_count": 6,
   "id": "f3945d83",
   "metadata": {},
   "outputs": [],
   "source": [
    "#ANS 7:  json.dumps()"
   ]
  },
  {
   "cell_type": "code",
   "execution_count": null,
   "id": "d6014aa1",
   "metadata": {},
   "outputs": [],
   "source": []
  }
 ],
 "metadata": {
  "kernelspec": {
   "display_name": "Python 3 (ipykernel)",
   "language": "python",
   "name": "python3"
  },
  "language_info": {
   "codemirror_mode": {
    "name": "ipython",
    "version": 3
   },
   "file_extension": ".py",
   "mimetype": "text/x-python",
   "name": "python",
   "nbconvert_exporter": "python",
   "pygments_lexer": "ipython3",
   "version": "3.9.13"
  }
 },
 "nbformat": 4,
 "nbformat_minor": 5
}
