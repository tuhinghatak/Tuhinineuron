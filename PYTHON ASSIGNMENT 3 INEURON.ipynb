{
 "cells": [
  {
   "cell_type": "code",
   "execution_count": null,
   "id": "01b82a0e",
   "metadata": {},
   "outputs": [],
   "source": [
    "#ANS 1: functions are  very advantageous to have in your programs because they reduce the need for duplicate code. This makes programs shorter, easier to read, and easier to update.  "
   ]
  },
  {
   "cell_type": "code",
   "execution_count": null,
   "id": "ed7f14b7",
   "metadata": {},
   "outputs": [],
   "source": [
    "#ANS 2: The code in a function executes when the function is called not when it's defined."
   ]
  },
  {
   "cell_type": "code",
   "execution_count": null,
   "id": "2443f0d5",
   "metadata": {},
   "outputs": [],
   "source": [
    "#ANS 3: The def statement defines and creates a function."
   ]
  },
  {
   "cell_type": "code",
   "execution_count": null,
   "id": "0bb66943",
   "metadata": {},
   "outputs": [],
   "source": [
    "#ANS 4: A function consists of the def statement and the code in its def clause. A function call is what moves the program execution into the function, and the function call evaluates to the function’s return value."
   ]
  },
  {
   "cell_type": "code",
   "execution_count": null,
   "id": "0feaeac1",
   "metadata": {},
   "outputs": [],
   "source": [
    "#ANS 5: There is only global scope, and a local scope is created whenever a function is called."
   ]
  },
  {
   "cell_type": "code",
   "execution_count": null,
   "id": "9cdad968",
   "metadata": {},
   "outputs": [],
   "source": [
    "#ANS 6:  When a function returns, the local scope is destroyed and all the variables in it are forgotten."
   ]
  },
  {
   "cell_type": "code",
   "execution_count": null,
   "id": "fc6fb908",
   "metadata": {},
   "outputs": [],
   "source": [
    "#ANS 7:  A return value is the value that a function call evaluates to. Like any value, a return value can be used as part of an expression."
   ]
  },
  {
   "cell_type": "code",
   "execution_count": null,
   "id": "6ee89deb",
   "metadata": {},
   "outputs": [],
   "source": [
    "#ANS 8: If there is no return statement for a function, its return value is None."
   ]
  },
  {
   "cell_type": "code",
   "execution_count": null,
   "id": "6a80f2bd",
   "metadata": {},
   "outputs": [],
   "source": [
    "#ANS 9: A global statement will force a variable in a function to refer to the global variable."
   ]
  },
  {
   "cell_type": "code",
   "execution_count": null,
   "id": "e8523652",
   "metadata": {},
   "outputs": [],
   "source": [
    "#ANS 10:  The data type of None is NoneType."
   ]
  },
  {
   "cell_type": "code",
   "execution_count": null,
   "id": "579100b7",
   "metadata": {},
   "outputs": [],
   "source": [
    "#ANS 11 :  That import statement imports a module named areallyourpetsnamederic."
   ]
  },
  {
   "cell_type": "code",
   "execution_count": null,
   "id": "e541314b",
   "metadata": {},
   "outputs": [],
   "source": [
    "#ANS 12 : This function could be called with spam.bacon()"
   ]
  },
  {
   "cell_type": "code",
   "execution_count": null,
   "id": "73d8e52d",
   "metadata": {},
   "outputs": [],
   "source": [
    "#ANS 13: Try running the programme in a try clause."
   ]
  },
  {
   "cell_type": "code",
   "execution_count": null,
   "id": "58692e5e",
   "metadata": {},
   "outputs": [],
   "source": [
    "#ANS 14:  The code that could potentially cause an error goes in the try clause. The code that executes if an error happens goes in the except clause."
   ]
  },
  {
   "cell_type": "code",
   "execution_count": null,
   "id": "63a575a7",
   "metadata": {},
   "outputs": [],
   "source": []
  },
  {
   "cell_type": "code",
   "execution_count": null,
   "id": "a576bfeb",
   "metadata": {},
   "outputs": [],
   "source": []
  },
  {
   "cell_type": "code",
   "execution_count": null,
   "id": "f0c38e5c",
   "metadata": {},
   "outputs": [],
   "source": []
  },
  {
   "cell_type": "code",
   "execution_count": null,
   "id": "5ee23174",
   "metadata": {},
   "outputs": [],
   "source": []
  },
  {
   "cell_type": "code",
   "execution_count": null,
   "id": "0733e0f3",
   "metadata": {},
   "outputs": [],
   "source": []
  }
 ],
 "metadata": {
  "kernelspec": {
   "display_name": "Python 3 (ipykernel)",
   "language": "python",
   "name": "python3"
  },
  "language_info": {
   "codemirror_mode": {
    "name": "ipython",
    "version": 3
   },
   "file_extension": ".py",
   "mimetype": "text/x-python",
   "name": "python",
   "nbconvert_exporter": "python",
   "pygments_lexer": "ipython3",
   "version": "3.9.13"
  }
 },
 "nbformat": 4,
 "nbformat_minor": 5
}
